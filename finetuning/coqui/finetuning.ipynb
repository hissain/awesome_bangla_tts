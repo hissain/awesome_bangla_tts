{
 "cells": [
  {
   "cell_type": "code",
   "execution_count": null,
   "id": "f0bde22f",
   "metadata": {},
   "outputs": [
    {
     "name": "stdout",
     "output_type": "stream",
     "text": [
      "Hello, World!\n"
     ]
    }
   ],
   "source": [
    "print('Hello, World!')"
   ]
  }
 ],
 "metadata": {},
 "nbformat": 4,
 "nbformat_minor": 5
}
